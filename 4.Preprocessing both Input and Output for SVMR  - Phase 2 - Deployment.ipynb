{
 "cells": [
  {
   "cell_type": "code",
   "execution_count": 1,
   "id": "0232741b",
   "metadata": {},
   "outputs": [],
   "source": [
    "#Load the saved model for deployment\n",
    "import pickle\n",
    "LoadModel=pickle.load(open(\"finalized SVR model for both input and output preprocessing.sav\",'rb'))"
   ]
  },
  {
   "cell_type": "code",
   "execution_count": 2,
   "id": "c5afe490",
   "metadata": {},
   "outputs": [],
   "source": [
    "#Need to find out the same Mean and deviation for standard scaler formula which is already dervied during traing\n",
    "import pandas as pd\n",
    "dataset=pd.read_csv(\"50_Startups.csv\")\n",
    "dataset=pd.get_dummies(dataset,dtype=int,drop_first=True)\n",
    "independent=dataset[['R&D Spend', 'Administration', 'Marketing Spend','State_Florida', 'State_New York']]\n",
    "dependent=dataset[['Profit']]\n",
    "from sklearn.model_selection import train_test_split as TTS\n",
    "x_train,x_test,y_train,y_test=TTS (independent,dependent,test_size=0.3,random_state=0)"
   ]
  },
  {
   "cell_type": "code",
   "execution_count": 3,
   "id": "8036f12d",
   "metadata": {},
   "outputs": [],
   "source": [
    "#Preprosing the data for input to find mean and deviation for prediction\n",
    "from sklearn.preprocessing import StandardScaler\n",
    "scInput=StandardScaler()\n",
    "x_train=scInput.fit_transform(x_train)"
   ]
  },
  {
   "cell_type": "code",
   "execution_count": 4,
   "id": "51565684",
   "metadata": {},
   "outputs": [],
   "source": [
    "#Preprosing the data for output to find mean and deviation for prediction\n",
    "scoutput=StandardScaler()\n",
    "y_train=scoutput.fit_transform(y_train) \n"
   ]
  },
  {
   "cell_type": "code",
   "execution_count": 5,
   "id": "f7a57b94",
   "metadata": {},
   "outputs": [
    {
     "name": "stderr",
     "output_type": "stream",
     "text": [
      "C:\\Users\\User\\anaconda3\\Lib\\site-packages\\sklearn\\base.py:464: UserWarning: X does not have valid feature names, but StandardScaler was fitted with feature names\n",
      "  warnings.warn(\n"
     ]
    },
    {
     "data": {
      "text/plain": [
       "array([[-1.46755405, -4.33835385, -1.50744257, -0.5       ,  1.30088727]])"
      ]
     },
     "execution_count": 5,
     "metadata": {},
     "output_type": "execute_result"
    }
   ],
   "source": [
    "#Preprocessing the input with same Mean and deviation for standard scaler formula which is now dervied above\n",
    "preproinput=scInput.transform([[1300,12000,4000,0,1]])\n",
    "preproinput"
   ]
  },
  {
   "cell_type": "code",
   "execution_count": 6,
   "id": "8281b868",
   "metadata": {},
   "outputs": [
    {
     "data": {
      "text/plain": [
       "array([-1.03109284])"
      ]
     },
     "execution_count": 6,
     "metadata": {},
     "output_type": "execute_result"
    }
   ],
   "source": [
    "#check the result with loaded model and preprocessed input\n",
    "result=LoadModel.predict(preproinput)\n",
    "result"
   ]
  },
  {
   "cell_type": "code",
   "execution_count": 7,
   "id": "f5222656",
   "metadata": {},
   "outputs": [
    {
     "data": {
      "text/plain": [
       "array([[65875.16964031]])"
      ]
     },
     "execution_count": 7,
     "metadata": {},
     "output_type": "execute_result"
    }
   ],
   "source": [
    "#Inverse the preprocessed output to get result in original format.\n",
    "RevPreProOutput=scoutput.inverse_transform([result])\n",
    "RevPreProOutput"
   ]
  },
  {
   "cell_type": "code",
   "execution_count": null,
   "id": "cb432777",
   "metadata": {},
   "outputs": [],
   "source": []
  }
 ],
 "metadata": {
  "kernelspec": {
   "display_name": "Python 3 (ipykernel)",
   "language": "python",
   "name": "python3"
  },
  "language_info": {
   "codemirror_mode": {
    "name": "ipython",
    "version": 3
   },
   "file_extension": ".py",
   "mimetype": "text/x-python",
   "name": "python",
   "nbconvert_exporter": "python",
   "pygments_lexer": "ipython3",
   "version": "3.11.5"
  }
 },
 "nbformat": 4,
 "nbformat_minor": 5
}
